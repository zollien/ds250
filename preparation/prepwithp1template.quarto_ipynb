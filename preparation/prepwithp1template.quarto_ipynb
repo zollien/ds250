{
  "cells": [
    {
      "cell_type": "markdown",
      "metadata": {},
      "source": [
        "---\n",
        "title: \"Client Report - What's in a Name?\"\n",
        "subtitle: \"Course DS 250\"\n",
        "author: \"ZOLLIEN DOVE\"\n",
        "format:\n",
        "  html:\n",
        "    self-contained: true\n",
        "    page-layout: full\n",
        "    title-block-banner: true\n",
        "    toc: true\n",
        "    toc-depth: 3\n",
        "    toc-location: body\n",
        "    number-sections: false\n",
        "    html-math-method: katex\n",
        "    code-fold: true\n",
        "    code-summary: \"Show the code\"\n",
        "    code-overflow: wrap\n",
        "    code-copy: hover\n",
        "    code-tools:\n",
        "        source: false\n",
        "        toggle: true\n",
        "        caption: See code\n",
        "execute: \n",
        "  warning: false\n",
        "    \n",
        "---"
      ],
      "id": "0eaa9dc0"
    },
    {
      "cell_type": "code",
      "metadata": {},
      "source": [
        "import pandas as pd\n",
        "import numpy as np\n",
        "from lets_plot import *\n",
        "\n",
        "LetsPlot.setup_html(isolated_frame=True)"
      ],
      "id": "76916043",
      "execution_count": null,
      "outputs": []
    },
    {
      "cell_type": "markdown",
      "metadata": {},
      "source": [
        "## Project Notes\n",
        "\n",
        "__For Project 1 the answer to each question should include a chart **and** a written response. The years labels on your charts should not include a comma. At least **two** of your charts must include reference marks.__  \n"
      ],
      "id": "c7935bf5"
    },
    {
      "cell_type": "code",
      "metadata": {},
      "source": [
        "# Learn morea about Code Cells: https://quarto.org/docs/reference/cells/cells-jupyter.html\n",
        "\n",
        "# Include and execute your code here\n",
        "df = pd.read_csv(\"https://github.com/byuidatascience/data4names/raw/master/data-raw/names_year/names_year.csv\") #connects to data source (, index_col=0) added.\n",
        "\n",
        "\n",
        "names = pd.read_csv(\"https://github.com/byuidatascience/data4names/raw/master/data-raw/names_year/names_year.csv\") \n",
        "names #shows cvs datasource x393384 rows x 54 columns"
      ],
      "id": "8ec6f0f0",
      "execution_count": null,
      "outputs": []
    },
    {
      "cell_type": "markdown",
      "metadata": {},
      "source": [
        "## QUESTION|TASK 1\n",
        "\n",
        "__How does your name at your birth year compare to its use historically?__\n",
        "\n",
        "_Historically Zoe had limited use in teh the early 1900s..._\n"
      ],
      "id": "801a0128"
    },
    {
      "cell_type": "code",
      "metadata": {},
      "source": [
        "# Include and execute your code here\n",
        "\n",
        "df_Zoe = df[df[\"name\"] == \"Zoe\"] #checks for Zoe in data set (104 rows)\n",
        "(\n",
        "  ggplot(data=df_Zoe, mapping=aes(x=\"year\", y=\"Total\")) \n",
        "  + geom_line() \n",
        "  + labs(\n",
        "    title=\"Zoe name distribution from 1910 to 2015\",\n",
        "    subtitle=\"Total Zoe names recorded by year\",\n",
        "    x=\"Year\",\n",
        "    y=\"Total\",\n",
        "  )\n",
        "  + scale_x_continuous(format = \"d\")\n",
        "  + geom_vline(xintercept=1978, color=\"green\", linetype=\"solid\")\n",
        "  + geom_text(x=1978, y=max(df_Zoe[\"Total\"]), label=\"Birth Year\")\n",
        ")\n"
      ],
      "id": "0b925189",
      "execution_count": null,
      "outputs": []
    },
    {
      "cell_type": "markdown",
      "metadata": {},
      "source": [
        "## QUESTION|TASK 2\n",
        "\n",
        "__If you talked to someone named Brittany on the phone, what is your guess of his or her age? What ages would you not guess?__\n",
        "\n",
        "_Brittany...age 35, she would not be 55 or 15 ()_\n"
      ],
      "id": "f6b098a4"
    },
    {
      "cell_type": "code",
      "metadata": {},
      "source": [
        "# Include and execute your code here\n",
        "\n",
        "df_Brittany = df[df[\"name\"] == \"Brittany\"] #checks for Brittany in data set (104 rows)\n",
        "(\n",
        "  ggplot(data=df_Brittany, mapping=aes(x=\"year\", y=\"Total\")) \n",
        "  + geom_line() \n",
        "  + labs(\n",
        "    title=\"Brittany name distribution from 1910 to 2015\",\n",
        "    subtitle=\"Total Brittany names recorded by year\",\n",
        "    x=\"Year\",\n",
        "    y=\"Total\",\n",
        "  )\n",
        "  + scale_x_continuous(format = \"d\")\n",
        "  + geom_vline(xintercept=1990, color=\"green\", linetype=\"solid\")\n",
        "  + geom_text(x=1990, y=max(df_Brittany[\"Total\"]), label=\"Expected Age of Brittany...\", size=5)\n",
        "  + geom_vline(xintercept=1970, color=\"green\", linetype=\"solid\")\n",
        "  + geom_text(x=1970, y=max(df_Brittany[\"Total\"]), label=\"Not Expected Age of Brittany...\", size=5)\n",
        "  + geom_vline(xintercept=2010, color=\"green\", linetype=\"solid\")\n",
        "  + geom_text(x=2010, y=max(df_Brittany[\"Total\"]), label=\"Not Expected Age of Brittany...\", size=5)\n",
        ")"
      ],
      "id": "4b8e6286",
      "execution_count": null,
      "outputs": []
    },
    {
      "cell_type": "markdown",
      "metadata": {},
      "source": [
        "## QUESTION|TASK 3\n",
        "\n",
        "__Mary, Martha, Peter, and Paul are all Christian names. From 1920 - 2000, compare the name usage of each of the four names in a single chart. What trends do you notice?__\n",
        "\n",
        "_type your results and analysis here_\n"
      ],
      "id": "a5296860"
    },
    {
      "cell_type": "code",
      "metadata": {},
      "source": [
        "# Include and execute your code here\n",
        "\n",
        "df_Christian_names = df[df[\"name\"].isin([\"Mary\", \"Martha\", \"Peter\", \"Paul\"])]\n",
        "(\n",
        "  ggplot(data=df_Christian_names, mapping=aes(x=\"year\", y=\"Total\", color=\"name\")) \n",
        "  + geom_line() \n",
        "  + labs(\n",
        "    title=\"Mary, Martha, Peter and Paul name distribution from 1920 to 2000\",\n",
        "    subtitle=\"Total names recorded by year\",\n",
        "    x=\"Year\",\n",
        "    y=\"Total\",\n",
        "  )\n",
        "  + scale_x_continuous(format = \"d\")\n",
        "\n",
        ")"
      ],
      "id": "88f5fdee",
      "execution_count": null,
      "outputs": []
    },
    {
      "cell_type": "markdown",
      "metadata": {},
      "source": [
        "## QUESTION|TASK 4\n",
        "\n",
        "__Think of a unique name from a famous movie. Plot the usage of that name and see how changes line up with the movie release. Does it look like the movie had an effect on usage?__  \n",
        "\n",
        "_198?? Rocky movie made teh name famous..._\n"
      ],
      "id": "7b66dac6"
    },
    {
      "cell_type": "code",
      "metadata": {},
      "source": [
        "# Include and execute your code here\n",
        "df_Rocky = df[df[\"name\"] == \"Rocky\"] #checks for Rocky in data set (? rows)\n",
        "(\n",
        "  ggplot(data=df_Rocky, mapping=aes(x=\"year\", y=\"Total\")) \n",
        "  + geom_line() \n",
        "  + labs(\n",
        "    title=\"Rocky name distribution from 1976\",\n",
        "    subtitle=\"Total Rocky names recorded by year\",\n",
        "    x=\"Year\",\n",
        "    y=\"Total\",\n",
        "  )\n",
        "  + scale_x_continuous(format = \"d\")\n",
        "  + geom_vline(xintercept=1976, color=\"green\", linetype=\"solid\")\n",
        "  + geom_text(x=1976, y=max(df_Rocky[\"Total\"]), label=\"Movie Year Release of Rocky...\", size=5)\n",
        "\n",
        ")"
      ],
      "id": "52808906",
      "execution_count": null,
      "outputs": []
    },
    {
      "cell_type": "markdown",
      "metadata": {},
      "source": [
        "---\n",
        "\n",
        "## STRETCH QUESTION|TASK 1\n",
        "\n",
        "__Reproduce the chart Elliot using the data from the `names_year.csv` file.__ \n",
        "\n",
        "_type your results and analysis here_\n"
      ],
      "id": "9c8ebc54"
    },
    {
      "cell_type": "code",
      "metadata": {},
      "source": [
        "# Include and execute your code here\n",
        "\n",
        "df_Elliot = df[df[\"name\"] == \"Elliot\"] #checks for Elliot in data set \n",
        "(\n",
        "  ggplot(data=df_Elliot, mapping=aes(x=\"year\", y=\"Total\")) \n",
        "  + geom_line(color = \"blue\") #assigns a color blue to line\n",
        "  + labs(\n",
        "    title=\"Elliot... What?\",\n",
        "    subtitle=\"\",\n",
        "    x=\"Year\",\n",
        "    y=\"Total\",\n",
        "  )\n",
        "  + scale_x_continuous(format = \"d\")\n",
        "\n",
        "  + geom_vline(xintercept=1983, color=\"red\", linetype=\"dashed\")\n",
        "  + geom_text(x=1983, y=max(df_Elliot[\"Total\"]), label=\"E.T Released\", size=5)\n",
        "\n",
        "  + geom_vline(xintercept=1985, color=\"red\", linetype=\"dashed\")\n",
        "  + geom_text(x=1985, y=max(df_Elliot[\"Total\"]), label=\"Second Release\", size=5)\n",
        "\n",
        "  + geom_vline(xintercept=2003, color=\"red\", linetype=\"dashed\")\n",
        "  + geom_text(x=2003, y=max(df_Elliot[\"Total\"]), label=\"Third Release\", size=5)\n",
        "\n",
        "\n",
        "\n",
        "\n",
        "\n",
        ")\n",
        "\n",
        "plot += geom_rect(xmin=xmin, xmax=xmax, ymin=ymin, ymax=ymax, fill='#', alpha=0.3)\n"
      ],
      "id": "d73ee16e",
      "execution_count": null,
      "outputs": []
    },
    {
      "cell_type": "markdown",
      "metadata": {},
      "source": [
        "---\n"
      ],
      "id": "b5874d7c"
    }
  ],
  "metadata": {
    "kernelspec": {
      "name": "python3",
      "language": "python",
      "display_name": "Python 3 (ipykernel)",
      "path": "/Users/zdove/Library/Python/3.12/share/jupyter/kernels/python3"
    }
  },
  "nbformat": 4,
  "nbformat_minor": 5
}